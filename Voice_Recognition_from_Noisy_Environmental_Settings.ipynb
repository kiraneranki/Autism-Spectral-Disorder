{
  "nbformat": 4,
  "nbformat_minor": 0,
  "metadata": {
    "colab": {
      "name": "Voice Recognition from Noisy Environmental Settings.ipynb",
      "provenance": [],
      "authorship_tag": "ABX9TyPRk7JhLPJCRvSJwLiOoUhg",
      "include_colab_link": true
    },
    "kernelspec": {
      "name": "python3",
      "display_name": "Python 3"
    },
    "language_info": {
      "name": "python"
    }
  },
  "cells": [
    {
      "cell_type": "markdown",
      "metadata": {
        "id": "view-in-github",
        "colab_type": "text"
      },
      "source": [
        "<a href=\"https://colab.research.google.com/github/kiraneranki/Autism-Spectral-Disorder/blob/main/Voice_Recognition_from_Noisy_Environmental_Settings.ipynb\" target=\"_parent\"><img src=\"https://colab.research.google.com/assets/colab-badge.svg\" alt=\"Open In Colab\"/></a>"
      ]
    },
    {
      "cell_type": "markdown",
      "metadata": {
        "id": "1drLqj3dfk7E"
      },
      "source": [
        "**Set up your voice datasets directories for input and processed output**\n"
      ]
    },
    {
      "cell_type": "code",
      "metadata": {
        "id": "f2pCdkwifMlW"
      },
      "source": [
        "# directory path for VOiCES  dataset\n",
        "dat_dir = 'add/yourDirectory/path/VOiCES'\n",
        "# directory path for VOiCES reference files\n",
        "refs_dir = 'add/yourDirectory/path/VOiCES_refs/'"
      ],
      "execution_count": null,
      "outputs": []
    },
    {
      "cell_type": "code",
      "metadata": {
        "id": "qWfCZ5IIgjwD"
      },
      "source": [
        "import os \n",
        "import librosa\n",
        "from glob import glob\n",
        "import librosa.display \n",
        "import matplotlib.pyplot as plt\n",
        "import random\n",
        "import IPython.display as ipd\n",
        "import fnmatch\n",
        "import itertools\n",
        "import numpy as np\n",
        "from types import *\n",
        "import pandas as pd\n",
        "\n",
        "%matplotlib inline"
      ],
      "execution_count": null,
      "outputs": []
    },
    {
      "cell_type": "code",
      "metadata": {
        "id": "7qCPuPSQgp2L"
      },
      "source": [
        "'''\n",
        "For given room and noise type, randomly select and load audio file,\n",
        "or load known audio file\n",
        "\n",
        "OPTIONS:\n",
        "room : (str) room id - 'rm1' or 'rm2'\n",
        "noise type : (str) descriptor for noise type, corresponding to no \n",
        "            adversarial noise, babble, music, or television:\n",
        "            ['none', 'babb', 'musi', 'tele'] \n",
        "\n",
        "OUTPUT: audio file, sr, and file path\n",
        "\n",
        "USAGE: \n",
        "    # load randomly select file with no background recorded in room 1\n",
        "    speech_file('rm1', 'none') \n",
        "    # load specific file\n",
        "    speech_file ('','', 'Lab41-SRI-VOiCES-rm1-musi-sp0083-ch003054-sg0005-mc07-stu-beh-dg090.wav' )\n",
        "\n",
        "'''\n",
        "def speech_file(room, noise, filename = ''):\n",
        "    if len(filename) == 0:\n",
        "        # randomly choose audio file for room, noise, specs\n",
        "        path = 'distant-16k/speech/'+room+'/'+noise+'/'\n",
        "        sp = random.choice([f for f in os.listdir(path) if f.startswith('sp')])\n",
        "        path = path+sp+'/'\n",
        "        filename = random.choice(os.listdir(path))\n",
        "    else:\n",
        "        room = filename[17:20] \n",
        "        noise = filename[21:25]\n",
        "        path = 'distant-16k/speech/'+room+'/'+noise+'/'+filename[26:filename.find('-ch')]+'/'\n",
        "    x, sr = librosa.load(path+filename)\n",
        "    return x, sr, path+filename #[filename.find('sp'):filename.find('-mc')]"
      ],
      "execution_count": null,
      "outputs": []
    },
    {
      "cell_type": "code",
      "metadata": {
        "id": "snUyf2dQgurh"
      },
      "source": [
        "''Given noisy speech file name, load corresponding clean/source audio\n",
        "OUTPUT: audio file, sr, and file path '''\n",
        "def source_file(noisy_spch):\n",
        "    speaker = noisy_spch[noisy_spch.find('-sp')+1:noisy_spch.find('-ch')]\n",
        "    scr_file = 'source-16k/'+speaker+'/'+'Lab41-SRI-VOiCES-src'+noisy_spch[noisy_spch.find('-sp'):noisy_spch.find('-mc')]+'.wav'\n",
        "    x, sr = librosa.load(scr_file)\n",
        "    return x, sr, scr_file"
      ],
      "execution_count": null,
      "outputs": []
    },
    {
      "cell_type": "code",
      "metadata": {
        "id": "ipmHAqvXg3L5"
      },
      "source": [
        "'''file_list returns file paths for selected subset of audio files with \n",
        "foreground speacker at degree deg, data recorded in specific room, \n",
        "noise type and microphone selection. \n",
        "\n",
        "Default values are: 90 deg, all rooms, all mics, [noise selected by user]\n",
        "\n",
        "OPTIONS: \n",
        "deg- (int) 0 thru 180 in 10 degree intervals\n",
        "room- (str) room id ['rm1', 'rm2', 'all']\n",
        "noise- (str) descriptor for noise type, corresponding to no \n",
        "            adversarial noise, babble, music, or television:\n",
        "            ['none', 'babb', 'musi', 'tele']\n",
        "mics- (str) type of microphone to be selected ['stu', 'lav', 'all'] or list of mic ID's ['02' ,'04','06']\n",
        "'''\n",
        "\n",
        "def file_list(noise, deg = 90, room = 'all', mics =['all']):\n",
        "    # ------------ check function input is valid -----------\n",
        "    #noise\n",
        "    assert noise in ['none', 'babb', 'musi', 'tele'], 'not a valid noise type: %r'% noise\n",
        "    # deg\n",
        "    assert type(deg) is int, 'deg not an int: %r' % deg\n",
        "    assert 0 <= deg <= 180, 'deg is out of range: %r' % deg\n",
        "    # room option\n",
        "    assert room in ['rm1', 'rm2', 'all'], 'not a valid room: %r' % room\n",
        "    # mic options\n",
        "    valid_mics = ['0'+str(f) for f in np.arange(9)+1]+[str(f) for f in np.arange(3)+10]\n",
        "    if len(mics) == 1:\n",
        "        assert mics[0] in ['stu', 'lav', 'all'], 'invalid mic type: %r ' %mics[0]\n",
        "    else:\n",
        "        for mic in mics:\n",
        "            assert mic in valid_mics, 'invalid mic Id: %r ' %mic\n",
        "        \n",
        "    # ----------------- define parameters ------------------\n",
        "    if deg < 100:\n",
        "        if deg == 0: \n",
        "            degstr ='000'\n",
        "        else:\n",
        "            degstr = '0'+str(deg)       \n",
        "    else:\n",
        "        degstr = str(deg)\n",
        "    if room == 'all':\n",
        "        bsdir = 'distant-16k/speech/*/'\n",
        "    else: \n",
        "        bsdir = 'distant-16k/speech/'+room+'/'\n",
        "    \n",
        "    bsdir = bsdir+noise+'/*/'\n",
        "    dirs = glob(bsdir)\n",
        "           \n",
        "    srchStr = 'dg'+degstr+'.wav'\n",
        "    spkr = []\n",
        "    if mics[0] != 'all':\n",
        "        if len(mics) == 1:\n",
        "            srchStr = '*'+mics[0]+'*'+srchStr\n",
        "            files = []\n",
        "            for drctr in dirs:\n",
        "                file_srch = [drctr+f for f in fnmatch.filter(os.listdir(drctr), srchStr)]\n",
        "                files = files + file_srch\n",
        "                if len(file_srch) > 0:\n",
        "                    spkr.append(drctr[drctr[:-1].rfind('/')+3:-1] )\n",
        "        else:\n",
        "            files = []\n",
        "            for drctr in dirs:\n",
        "                for mic in mics:\n",
        "                    srchStr_m = '*mc'+mic+'*'+srchStr\n",
        "                    file_srch = [drctr+f for f in fnmatch.filter(os.listdir(drctr), srchStr_m)]\n",
        "                    files = files + file_srch\n",
        "                    if len(file_srch) > 0:\n",
        "                        spkr.append(drctr[drctr[:-1].rfind('/')+3:-1] )\n",
        "    return files, set(spkr)"
      ],
      "execution_count": null,
      "outputs": []
    },
    {
      "cell_type": "code",
      "metadata": {
        "id": "KfAxzCezg9SH"
      },
      "source": [
        "'''\n",
        "Input filename path, output transcript, assumes df built from .refs file is loaded \n",
        "'''\n",
        "def get_transcript(filename, df):\n",
        "    file = filename[filename.rfind('/')+1: -4]\n",
        "    return df[df.fileName == file].trnscrpt.tolist()[0][1:]"
      ],
      "execution_count": null,
      "outputs": []
    },
    {
      "cell_type": "code",
      "metadata": {
        "id": "BoKvewzihBjS"
      },
      "source": [
        "os.chdir(refs_dir)"
      ],
      "execution_count": null,
      "outputs": []
    },
    {
      "cell_type": "code",
      "metadata": {
        "id": "CQUlX6ZahFTz"
      },
      "source": [
        "spkGendr = pd.read_csv('Lab41-SRI-VOiCES-speaker-gender-dataset.tbl', sep='\\s+')\n",
        "spkGendr.head()"
      ],
      "execution_count": null,
      "outputs": []
    },
    {
      "cell_type": "code",
      "metadata": {
        "id": "TCv4JJdbhJIw"
      },
      "source": [
        "print('Total number of speakers: ', len(spkGendr))\n",
        "print('Number of females:', spkGendr.Gender[spkGendr.Gender == 'F'].count())\n",
        "print('Number of males:', spkGendr.Gender[spkGendr.Gender == 'F'].count())"
      ],
      "execution_count": null,
      "outputs": []
    },
    {
      "cell_type": "code",
      "metadata": {
        "id": "mTxfCruPhOK1"
      },
      "source": [
        "trascript = pd.read_csv('Lab41-SRI-VOiCES.refs', header = None, names = ['fileName', 'trnscrpt'])"
      ],
      "execution_count": null,
      "outputs": []
    },
    {
      "cell_type": "code",
      "metadata": {
        "id": "CEsemdD0hS_C"
      },
      "source": [
        "trascript.head(20)"
      ],
      "execution_count": null,
      "outputs": []
    },
    {
      "cell_type": "code",
      "metadata": {
        "id": "V7811SAvhWC2"
      },
      "source": [
        "os.chdir(dat_dir)\n"
      ],
      "execution_count": null,
      "outputs": []
    },
    {
      "cell_type": "code",
      "metadata": {
        "id": "7flqS0VghlKE"
      },
      "source": [
        "degree = 90\n",
        "mics_input = ['stu']\n",
        "noise = 'musi'\n",
        "\n",
        "fls, speakers = file_list(noise, deg = degree, mics = mics_input)\n",
        "\n",
        "print('Number of audio files for %s mic(s) at %d deg: %d'%(mics_input[0], degree, len(fls)))\n",
        "print('Unique speakers in subset:%d'%len(speakers))"
      ],
      "execution_count": null,
      "outputs": []
    },
    {
      "cell_type": "code",
      "metadata": {
        "id": "e-fkG8LUhp54"
      },
      "source": [
        "# Let's just look at firs 10 files in list\n",
        "fls[:10]"
      ],
      "execution_count": null,
      "outputs": []
    },
    {
      "cell_type": "code",
      "metadata": {
        "id": "_oLHICKzhs80"
      },
      "source": [
        "os.chdir(dat_dir)\n",
        "random.seed(1024)"
      ],
      "execution_count": null,
      "outputs": []
    },
    {
      "cell_type": "code",
      "metadata": {
        "id": "rTlmGECshyYv"
      },
      "source": [
        "# load to specific file\n",
        "x, sr, nam = speech_file('','', 'Lab41-SRI-VOiCES-rm1-musi-sp0083-ch003054-sg0005-mc07-stu-beh-dg090.wav' )"
      ],
      "execution_count": null,
      "outputs": []
    },
    {
      "cell_type": "code",
      "metadata": {
        "id": "cHlXjBJ8h2Bs"
      },
      "source": [
        "# Play selected file\n",
        "print(nam[nam.find('Lab41-SRI-VOiCES'):])\n",
        "print('Transcript:')\n",
        "print(get_transcript(nam, trascript))\n",
        "ipd.Audio(nam)"
      ],
      "execution_count": null,
      "outputs": []
    },
    {
      "cell_type": "code",
      "metadata": {
        "id": "v0i6MiS6h4GL"
      },
      "source": [
        "# Randomly select an audio file for a specific room and noise type\n",
        "sp_x, sp_sr, sp_nam = speech_file('rm1', 'tele') \n",
        "\n",
        "# Let's also load the source audio for comparison\n",
        "src_x, src_sr, src_nam = source_file(sp_nam)"
      ],
      "execution_count": null,
      "outputs": []
    },
    {
      "cell_type": "code",
      "metadata": {
        "id": "jy0pX1Lmh8Vo"
      },
      "source": [
        "# Play the noisy speech audio file\n",
        "print(sp_nam[sp_nam.find('Lab41-SRI-VOiCES'):])\n",
        "print('Transcript:')\n",
        "print(get_transcript(sp_nam, trascript))\n",
        "ipd.Audio(sp_nam)"
      ],
      "execution_count": null,
      "outputs": []
    },
    {
      "cell_type": "code",
      "metadata": {
        "id": "rsad908PiCsj"
      },
      "source": [
        "# Play the clean source file\n",
        "print(src_nam[src_nam.find('Lab41-SRI-VOiCES'):])\n",
        "ipd.Audio(src_nam)"
      ],
      "execution_count": null,
      "outputs": []
    },
    {
      "cell_type": "code",
      "metadata": {
        "id": "X9mp7WewiGGn"
      },
      "source": [
        "plt.figure(figsize = (10,5))\n",
        "librosa.display.waveplot(src_x, src_sr, color = 'blue', alpha = 0.6, label = 'Source')\n",
        "librosa.display.waveplot(sp_x, sr = sp_sr, alpha = 0.5, color = 'orange',label = 'Noisy Speech')\n",
        "plt.legend()"
      ],
      "execution_count": null,
      "outputs": []
    },
    {
      "cell_type": "code",
      "metadata": {
        "id": "lv9zR7C2iJsN"
      },
      "source": [
        "# source \n",
        "src_ft = librosa.stft(src_x)\n",
        "src_db = librosa.amplitude_to_db(abs(src_ft))\n",
        "plt.figure(figsize=(14, 5))\n",
        "plt.title('Source')\n",
        "librosa.display.specshow(src_db, sr=src_sr, x_axis='time', y_axis='hz')\n",
        "# noisy speech\n",
        "sp_ft = librosa.stft(sp_x)\n",
        "sp_db = librosa.amplitude_to_db(abs(sp_ft))\n",
        "plt.figure(figsize=(14, 5))\n",
        "plt.title('Noisy Speech')\n",
        "librosa.display.specshow(sp_db, sr=src_sr, x_axis='time', y_axis='hz')"
      ],
      "execution_count": null,
      "outputs": []
    },
    {
      "cell_type": "code",
      "metadata": {
        "id": "HDePA1o8iO5_"
      },
      "source": [
        ""
      ],
      "execution_count": null,
      "outputs": []
    }
  ]
}