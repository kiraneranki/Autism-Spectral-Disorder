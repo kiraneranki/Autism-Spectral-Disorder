{
  "nbformat": 4,
  "nbformat_minor": 0,
  "metadata": {
    "colab": {
      "name": "predicting-early-asd-traits-of-toddlers.ipynb",
      "provenance": [],
      "collapsed_sections": [],
      "include_colab_link": true
    },
    "kernelspec": {
      "display_name": "Python 3",
      "language": "python",
      "name": "python3"
    },
    "language_info": {
      "codemirror_mode": {
        "name": "ipython",
        "version": 3
      },
      "file_extension": ".py",
      "mimetype": "text/x-python",
      "name": "python",
      "nbconvert_exporter": "python",
      "pygments_lexer": "ipython3",
      "version": "3.6.6"
    }
  },
  "cells": [
    {
      "cell_type": "markdown",
      "metadata": {
        "id": "view-in-github",
        "colab_type": "text"
      },
      "source": [
        "<a href=\"https://colab.research.google.com/github/kiraneranki/Autism-Spectral-Disorder/blob/main/predicting_early_asd_traits_of_toddlers.ipynb\" target=\"_parent\"><img src=\"https://colab.research.google.com/assets/colab-badge.svg\" alt=\"Open In Colab\"/></a>"
      ]
    },
    {
      "cell_type": "markdown",
      "metadata": {
        "id": "Nag0gOsJm6VX"
      },
      "source": [
        "**Based on Quantitative Checklist for Autism in Toddlers (Q-CHAT) data provided by *ASD Tests* app I shall try to develop a simple prediction model for toddlers to predict probability of showing ASD traits so that their parents/guardians can consider taking steps early.**"
      ]
    },
    {
      "cell_type": "code",
      "metadata": {
        "colab": {
          "base_uri": "https://localhost:8080/"
        },
        "id": "T3Tj6HZjm6Va",
        "outputId": "21f6b333-316d-40cb-fd2e-0d8033b2d1eb"
      },
      "source": [
        "# This Python 3 environment comes with many helpful analytics libraries installed\n",
        "# It is defined by the kaggle/python docker image: https://github.com/kaggle/docker-python\n",
        "# For example, here's several helpful packages to load in \n",
        "\n",
        "import numpy as np # linear algebra\n",
        "import pandas as pd # data processing, CSV file I/O (e.g. pd.read_csv)\n",
        "\n",
        "# Input data files are available in the \"../input/\" directory.\n",
        "# For example, running this (by clicking run or pressing Shift+Enter) will list the files in the input directory\n",
        "\n",
        "import os\n",
        "print(os.listdir(\"sample_data/input\"))\n",
        "\n",
        "# Any results you write to the current directory are saved as output."
      ],
      "execution_count": null,
      "outputs": [
        {
          "output_type": "stream",
          "text": [
            "['Autism_Data.arff', 'Toddler Autism dataset July 2018.csv', 'Toddler data description.docx']\n"
          ],
          "name": "stdout"
        }
      ]
    },
    {
      "cell_type": "code",
      "metadata": {
        "id": "AmLaJDNOm6Vc"
      },
      "source": [
        "import matplotlib.pyplot as plt\n",
        "import seaborn as sns\n",
        "%matplotlib inline"
      ],
      "execution_count": null,
      "outputs": []
    },
    {
      "cell_type": "markdown",
      "metadata": {
        "id": "vmVOfqk4m6Vd"
      },
      "source": [
        "**We shall also explore ASD data for adults provided by ASD Tests app and gain some insights for that.**"
      ]
    },
    {
      "cell_type": "code",
      "metadata": {
        "id": "3kr_yDs5m6Vd"
      },
      "source": [
        "df1 = pd.read_csv('sample_data/input/Autism_Data.arff',na_values='?')\n",
        "df2 = pd.read_csv('sample_data/input/Toddler Autism dataset July 2018.csv',na_values='?')"
      ],
      "execution_count": null,
      "outputs": []
    },
    {
      "cell_type": "code",
      "metadata": {
        "colab": {
          "base_uri": "https://localhost:8080/",
          "height": 309
        },
        "id": "lSwqkveHm6Ve",
        "outputId": "99ecccae-32fc-49ce-f764-0ce6f5f2bb98"
      },
      "source": [
        "df1.head()"
      ],
      "execution_count": null,
      "outputs": [
        {
          "output_type": "execute_result",
          "data": {
            "text/html": [
              "<div>\n",
              "<style scoped>\n",
              "    .dataframe tbody tr th:only-of-type {\n",
              "        vertical-align: middle;\n",
              "    }\n",
              "\n",
              "    .dataframe tbody tr th {\n",
              "        vertical-align: top;\n",
              "    }\n",
              "\n",
              "    .dataframe thead th {\n",
              "        text-align: right;\n",
              "    }\n",
              "</style>\n",
              "<table border=\"1\" class=\"dataframe\">\n",
              "  <thead>\n",
              "    <tr style=\"text-align: right;\">\n",
              "      <th></th>\n",
              "      <th>A1_Score</th>\n",
              "      <th>A2_Score</th>\n",
              "      <th>A3_Score</th>\n",
              "      <th>A4_Score</th>\n",
              "      <th>A5_Score</th>\n",
              "      <th>A6_Score</th>\n",
              "      <th>A7_Score</th>\n",
              "      <th>A8_Score</th>\n",
              "      <th>A9_Score</th>\n",
              "      <th>A10_Score</th>\n",
              "      <th>age</th>\n",
              "      <th>gender</th>\n",
              "      <th>ethnicity</th>\n",
              "      <th>jundice</th>\n",
              "      <th>austim</th>\n",
              "      <th>contry_of_res</th>\n",
              "      <th>used_app_before</th>\n",
              "      <th>result</th>\n",
              "      <th>age_desc</th>\n",
              "      <th>relation</th>\n",
              "      <th>Class/ASD</th>\n",
              "    </tr>\n",
              "  </thead>\n",
              "  <tbody>\n",
              "    <tr>\n",
              "      <th>0</th>\n",
              "      <td>1</td>\n",
              "      <td>1</td>\n",
              "      <td>1</td>\n",
              "      <td>1</td>\n",
              "      <td>0</td>\n",
              "      <td>0</td>\n",
              "      <td>1</td>\n",
              "      <td>1</td>\n",
              "      <td>0</td>\n",
              "      <td>0</td>\n",
              "      <td>26.0</td>\n",
              "      <td>f</td>\n",
              "      <td>White-European</td>\n",
              "      <td>no</td>\n",
              "      <td>no</td>\n",
              "      <td>'United States'</td>\n",
              "      <td>no</td>\n",
              "      <td>6</td>\n",
              "      <td>'18 and more'</td>\n",
              "      <td>Self</td>\n",
              "      <td>NO</td>\n",
              "    </tr>\n",
              "    <tr>\n",
              "      <th>1</th>\n",
              "      <td>1</td>\n",
              "      <td>1</td>\n",
              "      <td>0</td>\n",
              "      <td>1</td>\n",
              "      <td>0</td>\n",
              "      <td>0</td>\n",
              "      <td>0</td>\n",
              "      <td>1</td>\n",
              "      <td>0</td>\n",
              "      <td>1</td>\n",
              "      <td>24.0</td>\n",
              "      <td>m</td>\n",
              "      <td>Latino</td>\n",
              "      <td>no</td>\n",
              "      <td>yes</td>\n",
              "      <td>Brazil</td>\n",
              "      <td>no</td>\n",
              "      <td>5</td>\n",
              "      <td>'18 and more'</td>\n",
              "      <td>Self</td>\n",
              "      <td>NO</td>\n",
              "    </tr>\n",
              "    <tr>\n",
              "      <th>2</th>\n",
              "      <td>1</td>\n",
              "      <td>1</td>\n",
              "      <td>0</td>\n",
              "      <td>1</td>\n",
              "      <td>1</td>\n",
              "      <td>0</td>\n",
              "      <td>1</td>\n",
              "      <td>1</td>\n",
              "      <td>1</td>\n",
              "      <td>1</td>\n",
              "      <td>27.0</td>\n",
              "      <td>m</td>\n",
              "      <td>Latino</td>\n",
              "      <td>yes</td>\n",
              "      <td>yes</td>\n",
              "      <td>Spain</td>\n",
              "      <td>no</td>\n",
              "      <td>8</td>\n",
              "      <td>'18 and more'</td>\n",
              "      <td>Parent</td>\n",
              "      <td>YES</td>\n",
              "    </tr>\n",
              "    <tr>\n",
              "      <th>3</th>\n",
              "      <td>1</td>\n",
              "      <td>1</td>\n",
              "      <td>0</td>\n",
              "      <td>1</td>\n",
              "      <td>0</td>\n",
              "      <td>0</td>\n",
              "      <td>1</td>\n",
              "      <td>1</td>\n",
              "      <td>0</td>\n",
              "      <td>1</td>\n",
              "      <td>35.0</td>\n",
              "      <td>f</td>\n",
              "      <td>White-European</td>\n",
              "      <td>no</td>\n",
              "      <td>yes</td>\n",
              "      <td>'United States'</td>\n",
              "      <td>no</td>\n",
              "      <td>6</td>\n",
              "      <td>'18 and more'</td>\n",
              "      <td>Self</td>\n",
              "      <td>NO</td>\n",
              "    </tr>\n",
              "    <tr>\n",
              "      <th>4</th>\n",
              "      <td>1</td>\n",
              "      <td>0</td>\n",
              "      <td>0</td>\n",
              "      <td>0</td>\n",
              "      <td>0</td>\n",
              "      <td>0</td>\n",
              "      <td>0</td>\n",
              "      <td>1</td>\n",
              "      <td>0</td>\n",
              "      <td>0</td>\n",
              "      <td>40.0</td>\n",
              "      <td>f</td>\n",
              "      <td>NaN</td>\n",
              "      <td>no</td>\n",
              "      <td>no</td>\n",
              "      <td>Egypt</td>\n",
              "      <td>no</td>\n",
              "      <td>2</td>\n",
              "      <td>'18 and more'</td>\n",
              "      <td>NaN</td>\n",
              "      <td>NO</td>\n",
              "    </tr>\n",
              "  </tbody>\n",
              "</table>\n",
              "</div>"
            ],
            "text/plain": [
              "   A1_Score  A2_Score  A3_Score  ...       age_desc  relation  Class/ASD\n",
              "0         1         1         1  ...  '18 and more'      Self         NO\n",
              "1         1         1         0  ...  '18 and more'      Self         NO\n",
              "2         1         1         0  ...  '18 and more'    Parent        YES\n",
              "3         1         1         0  ...  '18 and more'      Self         NO\n",
              "4         1         0         0  ...  '18 and more'       NaN         NO\n",
              "\n",
              "[5 rows x 21 columns]"
            ]
          },
          "metadata": {
            "tags": []
          },
          "execution_count": 4
        }
      ]
    },
    {
      "cell_type": "code",
      "metadata": {
        "id": "m15mCXmFuVqL",
        "outputId": "9be875bc-b61e-4ab0-f374-01bc1249dbba",
        "colab": {
          "base_uri": "https://localhost:8080/",
          "height": 282
        }
      },
      "source": [
        "\n",
        "ethnicity = df1['ethnicity'].astype('category')\n",
        "ethnicity.hist()\n",
        "\n",
        "#jundice = df1['jundice'].astype('category')\n",
        "#jundice.hist()\n",
        "\n",
        "\n"
      ],
      "execution_count": 134,
      "outputs": [
        {
          "output_type": "execute_result",
          "data": {
            "text/plain": [
              "<matplotlib.axes._subplots.AxesSubplot at 0x7fba87d8f150>"
            ]
          },
          "metadata": {},
          "execution_count": 134
        },
        {
          "output_type": "display_data",
          "data": {
            "image/png": "[encoded data removed]",
            "text/plain": [
              "<Figure size 432x288 with 1 Axes>"
            ]
          },
          "metadata": {
            "needs_background": "light"
          }
        }
      ]
    },
    {
      "cell_type": "code",
      "metadata": {
        "colab": {
          "base_uri": "https://localhost:8080/"
        },
        "id": "SEuXqU_dm6Ve",
        "scrolled": true,
        "outputId": "7297236b-9873-4e12-e8ae-671bd39b9cb9"
      },
      "source": [
        "df1.info()"
      ],
      "execution_count": null,
      "outputs": [
        {
          "output_type": "stream",
          "text": [
            "<class 'pandas.core.frame.DataFrame'>\n",
            "RangeIndex: 704 entries, 0 to 703\n",
            "Data columns (total 21 columns):\n",
            " #   Column           Non-Null Count  Dtype  \n",
            "---  ------           --------------  -----  \n",
            " 0   A1_Score         704 non-null    int64  \n",
            " 1   A2_Score         704 non-null    int64  \n",
            " 2   A3_Score         704 non-null    int64  \n",
            " 3   A4_Score         704 non-null    int64  \n",
            " 4   A5_Score         704 non-null    int64  \n",
            " 5   A6_Score         704 non-null    int64  \n",
            " 6   A7_Score         704 non-null    int64  \n",
            " 7   A8_Score         704 non-null    int64  \n",
            " 8   A9_Score         704 non-null    int64  \n",
            " 9   A10_Score        704 non-null    int64  \n",
            " 10  age              702 non-null    float64\n",
            " 11  gender           704 non-null    object \n",
            " 12  ethnicity        609 non-null    object \n",
            " 13  jundice          704 non-null    object \n",
            " 14  austim           704 non-null    object \n",
            " 15  contry_of_res    704 non-null    object \n",
            " 16  used_app_before  704 non-null    object \n",
            " 17  result           704 non-null    int64  \n",
            " 18  age_desc         704 non-null    object \n",
            " 19  relation         609 non-null    object \n",
            " 20  Class/ASD        704 non-null    object \n",
            "dtypes: float64(1), int64(11), object(9)\n",
            "memory usage: 115.6+ KB\n"
          ],
          "name": "stdout"
        }
      ]
    },
    {
      "cell_type": "code",
      "metadata": {
        "colab": {
          "base_uri": "https://localhost:8080/",
          "height": 255
        },
        "id": "AroNe3x5m6Vf",
        "outputId": "adeaa71b-0112-4d1a-a193-0430cffca85d"
      },
      "source": [
        "df2.head()"
      ],
      "execution_count": null,
      "outputs": [
        {
          "output_type": "execute_result",
          "data": {
            "text/html": [
              "<div>\n",
              "<style scoped>\n",
              "    .dataframe tbody tr th:only-of-type {\n",
              "        vertical-align: middle;\n",
              "    }\n",
              "\n",
              "    .dataframe tbody tr th {\n",
              "        vertical-align: top;\n",
              "    }\n",
              "\n",
              "    .dataframe thead th {\n",
              "        text-align: right;\n",
              "    }\n",
              "</style>\n",
              "<table border=\"1\" class=\"dataframe\">\n",
              "  <thead>\n",
              "    <tr style=\"text-align: right;\">\n",
              "      <th></th>\n",
              "      <th>Case_No</th>\n",
              "      <th>A1</th>\n",
              "      <th>A2</th>\n",
              "      <th>A3</th>\n",
              "      <th>A4</th>\n",
              "      <th>A5</th>\n",
              "      <th>A6</th>\n",
              "      <th>A7</th>\n",
              "      <th>A8</th>\n",
              "      <th>A9</th>\n",
              "      <th>A10</th>\n",
              "      <th>Age_Mons</th>\n",
              "      <th>Qchat-10-Score</th>\n",
              "      <th>Sex</th>\n",
              "      <th>Ethnicity</th>\n",
              "      <th>Jaundice</th>\n",
              "      <th>Family_mem_with_ASD</th>\n",
              "      <th>Who completed the test</th>\n",
              "      <th>Class/ASD Traits</th>\n",
              "    </tr>\n",
              "  </thead>\n",
              "  <tbody>\n",
              "    <tr>\n",
              "      <th>0</th>\n",
              "      <td>1</td>\n",
              "      <td>0</td>\n",
              "      <td>0</td>\n",
              "      <td>0</td>\n",
              "      <td>0</td>\n",
              "      <td>0</td>\n",
              "      <td>0</td>\n",
              "      <td>1</td>\n",
              "      <td>1</td>\n",
              "      <td>0</td>\n",
              "      <td>1</td>\n",
              "      <td>28</td>\n",
              "      <td>3</td>\n",
              "      <td>f</td>\n",
              "      <td>middle eastern</td>\n",
              "      <td>yes</td>\n",
              "      <td>no</td>\n",
              "      <td>family member</td>\n",
              "      <td>No</td>\n",
              "    </tr>\n",
              "    <tr>\n",
              "      <th>1</th>\n",
              "      <td>2</td>\n",
              "      <td>1</td>\n",
              "      <td>1</td>\n",
              "      <td>0</td>\n",
              "      <td>0</td>\n",
              "      <td>0</td>\n",
              "      <td>1</td>\n",
              "      <td>1</td>\n",
              "      <td>0</td>\n",
              "      <td>0</td>\n",
              "      <td>0</td>\n",
              "      <td>36</td>\n",
              "      <td>4</td>\n",
              "      <td>m</td>\n",
              "      <td>White European</td>\n",
              "      <td>yes</td>\n",
              "      <td>no</td>\n",
              "      <td>family member</td>\n",
              "      <td>Yes</td>\n",
              "    </tr>\n",
              "    <tr>\n",
              "      <th>2</th>\n",
              "      <td>3</td>\n",
              "      <td>1</td>\n",
              "      <td>0</td>\n",
              "      <td>0</td>\n",
              "      <td>0</td>\n",
              "      <td>0</td>\n",
              "      <td>0</td>\n",
              "      <td>1</td>\n",
              "      <td>1</td>\n",
              "      <td>0</td>\n",
              "      <td>1</td>\n",
              "      <td>36</td>\n",
              "      <td>4</td>\n",
              "      <td>m</td>\n",
              "      <td>middle eastern</td>\n",
              "      <td>yes</td>\n",
              "      <td>no</td>\n",
              "      <td>family member</td>\n",
              "      <td>Yes</td>\n",
              "    </tr>\n",
              "    <tr>\n",
              "      <th>3</th>\n",
              "      <td>4</td>\n",
              "      <td>1</td>\n",
              "      <td>1</td>\n",
              "      <td>1</td>\n",
              "      <td>1</td>\n",
              "      <td>1</td>\n",
              "      <td>1</td>\n",
              "      <td>1</td>\n",
              "      <td>1</td>\n",
              "      <td>1</td>\n",
              "      <td>1</td>\n",
              "      <td>24</td>\n",
              "      <td>10</td>\n",
              "      <td>m</td>\n",
              "      <td>Hispanic</td>\n",
              "      <td>no</td>\n",
              "      <td>no</td>\n",
              "      <td>family member</td>\n",
              "      <td>Yes</td>\n",
              "    </tr>\n",
              "    <tr>\n",
              "      <th>4</th>\n",
              "      <td>5</td>\n",
              "      <td>1</td>\n",
              "      <td>1</td>\n",
              "      <td>0</td>\n",
              "      <td>1</td>\n",
              "      <td>1</td>\n",
              "      <td>1</td>\n",
              "      <td>1</td>\n",
              "      <td>1</td>\n",
              "      <td>1</td>\n",
              "      <td>1</td>\n",
              "      <td>20</td>\n",
              "      <td>9</td>\n",
              "      <td>f</td>\n",
              "      <td>White European</td>\n",
              "      <td>no</td>\n",
              "      <td>yes</td>\n",
              "      <td>family member</td>\n",
              "      <td>Yes</td>\n",
              "    </tr>\n",
              "  </tbody>\n",
              "</table>\n",
              "</div>"
            ],
            "text/plain": [
              "   Case_No  A1  A2  ...  Family_mem_with_ASD  Who completed the test  Class/ASD Traits \n",
              "0        1   0   0  ...                   no           family member                 No\n",
              "1        2   1   1  ...                   no           family member                Yes\n",
              "2        3   1   0  ...                   no           family member                Yes\n",
              "3        4   1   1  ...                   no           family member                Yes\n",
              "4        5   1   1  ...                  yes           family member                Yes\n",
              "\n",
              "[5 rows x 19 columns]"
            ]
          },
          "metadata": {
            "tags": []
          },
          "execution_count": 6
        }
      ]
    },
    {
      "cell_type": "code",
      "metadata": {
        "colab": {
          "base_uri": "https://localhost:8080/"
        },
        "id": "6k_84w-4m6Vg",
        "outputId": "b653951b-9674-4439-942d-b1e3b4cda9b3"
      },
      "source": [
        "df2.info()"
      ],
      "execution_count": null,
      "outputs": [
        {
          "output_type": "stream",
          "text": [
            "<class 'pandas.core.frame.DataFrame'>\n",
            "RangeIndex: 1054 entries, 0 to 1053\n",
            "Data columns (total 19 columns):\n",
            " #   Column                  Non-Null Count  Dtype \n",
            "---  ------                  --------------  ----- \n",
            " 0   Case_No                 1054 non-null   int64 \n",
            " 1   A1                      1054 non-null   int64 \n",
            " 2   A2                      1054 non-null   int64 \n",
            " 3   A3                      1054 non-null   int64 \n",
            " 4   A4                      1054 non-null   int64 \n",
            " 5   A5                      1054 non-null   int64 \n",
            " 6   A6                      1054 non-null   int64 \n",
            " 7   A7                      1054 non-null   int64 \n",
            " 8   A8                      1054 non-null   int64 \n",
            " 9   A9                      1054 non-null   int64 \n",
            " 10  A10                     1054 non-null   int64 \n",
            " 11  Age_Mons                1054 non-null   int64 \n",
            " 12  Qchat-10-Score          1054 non-null   int64 \n",
            " 13  Sex                     1054 non-null   object\n",
            " 14  Ethnicity               1054 non-null   object\n",
            " 15  Jaundice                1054 non-null   object\n",
            " 16  Family_mem_with_ASD     1054 non-null   object\n",
            " 17  Who completed the test  1054 non-null   object\n",
            " 18  Class/ASD Traits        1054 non-null   object\n",
            "dtypes: int64(13), object(6)\n",
            "memory usage: 156.6+ KB\n"
          ],
          "name": "stdout"
        }
      ]
    },
    {
      "cell_type": "markdown",
      "metadata": {
        "id": "fHXZocB0m6Vg"
      },
      "source": [
        "**EDA**"
      ]
    },
    {
      "cell_type": "code",
      "metadata": {
        "colab": {
          "base_uri": "https://localhost:8080/"
        },
        "id": "wZmiO103m6Vh",
        "outputId": "4c0dd5db-e318-418a-d01d-e6f2ee89bd8e"
      },
      "source": [
        "sns.set_style('whitegrid')\n",
        "data1= df1[df1['Class/ASD']=='YES']\n",
        "data2= df2[df2['Class/ASD Traits ']=='Yes']\n",
        "print(\"Adults: \",len(data1)/len(df1) * 100)\n",
        "print(\"Toddlers:\",len(data2)/len(df2) * 100)"
      ],
      "execution_count": null,
      "outputs": [
        {
          "output_type": "stream",
          "text": [
            "Adults:  26.84659090909091\n",
            "Toddlers: 69.07020872865274\n"
          ],
          "name": "stdout"
        }
      ]
    },
    {
      "cell_type": "markdown",
      "metadata": {
        "id": "qjb1lHdJm6Vh"
      },
      "source": [
        "**Around 1% of the population has ASD, but for this sample we get around 27%  for Adults and 69% for Toddlers of the data with positive ASD. It's so because the test parameters features only qualitative properties of ASDs**"
      ]
    },
    {
      "cell_type": "code",
      "metadata": {
        "colab": {
          "base_uri": "https://localhost:8080/",
          "height": 517
        },
        "id": "VjLHHONvm6Vi",
        "scrolled": true,
        "outputId": "3162a445-fc54-4d44-e97c-b1a3ab9f5191"
      },
      "source": [
        "#Let's visualize the missing data\n",
        "fig, ax = plt.subplots(1,2,figsize=(20,6))\n",
        "sns.heatmap(data1.isnull(),yticklabels=False,cbar=False,cmap='viridis',ax=ax[0])\n",
        "ax[0].set_title('Adult dataset')\n",
        "sns.heatmap(data2.isnull(),yticklabels=False,cbar=False,cmap='viridis',ax=ax[1])\n",
        "ax[1].set_title('Toddlers dataset')"
      ],
      "execution_count": null,
      "outputs": [
        {
          "output_type": "execute_result",
          "data": {
            "text/plain": [
              "Text(0.5, 1.0, 'Toddlers dataset')"
            ]
          },
          "metadata": {
            "tags": []
          },
          "execution_count": 9
        },
        {
          "output_type": "display_data",
          "data": {
            "image/png": "[encoded data removed]",
            "text/plain": [
              "<Figure size 1440x432 with 2 Axes>"
            ]
          },
          "metadata": {
            "tags": []
          }
        }
      ]
    },
    {
      "cell_type": "code",
      "metadata": {
        "colab": {
          "base_uri": "https://localhost:8080/",
          "height": 421
        },
        "id": "AVaoRAUcm6Vi",
        "outputId": "154cd2cb-3de6-447e-ab07-259a4e1a2f93"
      },
      "source": [
        "#Let's visualize the jaundice born child based on gender\n",
        "fig, ax = plt.subplots(1,2,figsize=(20,6))\n",
        "sns.countplot(x='jundice',data=data1,hue='gender',ax=ax[0])\n",
        "ax[0].set_title('ASD positive Adults born with jaundice based on gender')\n",
        "ax[0].set_xlabel('Jaundice while birth')\n",
        "sns.countplot(x='Jaundice',data=data2,hue='Sex',ax=ax[1])\n",
        "ax[1].set_title('ASD positive Toddlers born with jaundice based on gender')\n",
        "ax[1].set_xlabel('Jaundice while birth')"
      ],
      "execution_count": null,
      "outputs": [
        {
          "output_type": "execute_result",
          "data": {
            "text/plain": [
              "Text(0.5, 0, 'Jaundice while birth')"
            ]
          },
          "metadata": {
            "tags": []
          },
          "execution_count": 10
        },
        {
          "output_type": "display_data",
          "data": {
            "image/png": "[encoded data removed]",
            "text/plain": [
              "<Figure size 1440x432 with 2 Axes>"
            ]
          },
          "metadata": {
            "tags": []
          }
        }
      ]
    },
    {
      "cell_type": "markdown",
      "metadata": {
        "id": "4Ognck4bm6Vj"
      },
      "source": [
        "We can see here almost 6-7 times more (in Adults) and 2-3 times more (in Toddlers) of non-jaundice born ASD positive whereas according to reports that is around 10 times. **Jaundice born child have a weak link with ASD.**\n",
        "\n",
        "Also, **according to reports, ASD is more common among boys (around 4-5 times) than among girls.** But here in Adults we see a lower ratio, whereas in Toddlers its nearly 4 times boys than girls, which is quite close to actual ratio. "
      ]
    },
    {
      "cell_type": "code",
      "metadata": {
        "colab": {
          "base_uri": "https://localhost:8080/",
          "height": 475
        },
        "id": "1qa-4pCAm6Vj",
        "outputId": "065b2b25-27a9-43b6-8866-1aef6c683540"
      },
      "source": [
        "#Let's see the age distribution of ASD positive\n",
        "fig, ax = plt.subplots(1,2,figsize=(20,6))\n",
        "sns.distplot(data1['age'],kde=False,bins=45,color='darkred',ax=ax[0])\n",
        "ax[0].set_xlabel('Adult age in years')\n",
        "ax[0].set_title('Age distribution of ASD positive')\n",
        "sns.distplot(data2['Age_Mons'],kde=False,bins=30,color='darkred',ax=ax[1])\n",
        "ax[1].set_xlabel('Toddlers age in months')\n",
        "ax[1].set_title('Age distribution of ASD positive')"
      ],
      "execution_count": null,
      "outputs": [
        {
          "output_type": "stream",
          "text": [
            "/usr/local/lib/python3.7/dist-packages/seaborn/distributions.py:2557: FutureWarning: `distplot` is a deprecated function and will be removed in a future version. Please adapt your code to use either `displot` (a figure-level function with similar flexibility) or `histplot` (an axes-level function for histograms).\n",
            "  warnings.warn(msg, FutureWarning)\n"
          ],
          "name": "stderr"
        },
        {
          "output_type": "execute_result",
          "data": {
            "text/plain": [
              "Text(0.5, 1.0, 'Age distribution of ASD positive')"
            ]
          },
          "metadata": {
            "tags": []
          },
          "execution_count": 11
        },
        {
          "output_type": "display_data",
          "data": {
            "image/png": "[encoded data removed]",
            "text/plain": [
              "<Figure size 1440x432 with 2 Axes>"
            ]
          },
          "metadata": {
            "tags": []
          }
        }
      ]
    },
    {
      "cell_type": "markdown",
      "metadata": {
        "id": "FJkdsnXHm6Vj"
      },
      "source": [
        "So for adults most of the ASD positive are around 20 or 30 years of age, whereas for toddlers most of them are around 36months. We can see in adults as the age increases the number decreases, whereas in toddlers as the age increases the number increases. It goes well with the research. **For adults, people with autism develop strategies to help them age better. For toddlers, the significant signs of autism reveals around 3 years of age.**"
      ]
    },
    {
      "cell_type": "code",
      "metadata": {
        "colab": {
          "base_uri": "https://localhost:8080/",
          "height": 407
        },
        "id": "UMTEZYBxm6Vj",
        "outputId": "de1c5ea4-5c81-4c8a-c272-ace65aa83de1"
      },
      "source": [
        "# Let's visualize positive ASD positive Adults based on top 15 countries\n",
        "plt.figure(figsize=(20,6))\n",
        "sns.countplot(x='contry_of_res',data=data1,order= data1['contry_of_res'].value_counts().index[:15],hue='gender',palette='viridis')\n",
        "plt.title('Positive ASD Adults country wise distribution')\n",
        "plt.xlabel('Countries')\n",
        "plt.tight_layout()"
      ],
      "execution_count": null,
      "outputs": [
        {
          "output_type": "display_data",
          "data": {
            "image/png": "[encoded data removed]",
            "text/plain": [
              "<Figure size 1440x432 with 1 Axes>"
            ]
          },
          "metadata": {
            "tags": []
          }
        }
      ]
    },
    {
      "cell_type": "markdown",
      "metadata": {
        "id": "hIHFH0P2m6Vk"
      },
      "source": [
        "Even though the reach of the app affects this distribution, it does quite well describing the report. **Developed countries like UK,US, Australia,Canada indeed are the most affected ones.** But we see female population distinguishable compared to males, which is quite contrary."
      ]
    },
    {
      "cell_type": "code",
      "metadata": {
        "colab": {
          "base_uri": "https://localhost:8080/"
        },
        "id": "INtVxFHmm6Vk",
        "scrolled": true,
        "outputId": "a3077d8d-3eb7-46b6-b5ea-8c908448c8d5"
      },
      "source": [
        "#Lets see the ethnicity value counts\n",
        "print(data1['ethnicity'].value_counts())\n",
        "data2['Ethnicity'].value_counts()"
      ],
      "execution_count": null,
      "outputs": [
        {
          "output_type": "stream",
          "text": [
            "White-European       109\n",
            "Black                 18\n",
            "Asian                 16\n",
            "Latino                10\n",
            "Others                 9\n",
            "'Middle Eastern '      8\n",
            "Hispanic               5\n",
            "'South Asian'          3\n",
            "Pasifika               1\n",
            "Turkish                1\n",
            "Name: ethnicity, dtype: int64\n"
          ],
          "name": "stdout"
        },
        {
          "output_type": "execute_result",
          "data": {
            "text/plain": [
              "White European    250\n",
              "asian             212\n",
              "middle eastern     96\n",
              "black              39\n",
              "south asian        37\n",
              "Hispanic           30\n",
              "Others             29\n",
              "Latino             20\n",
              "Pacifica            7\n",
              "mixed               5\n",
              "Native Indian       3\n",
              "Name: Ethnicity, dtype: int64"
            ]
          },
          "metadata": {
            "tags": []
          },
          "execution_count": 13
        }
      ]
    },
    {
      "cell_type": "markdown",
      "metadata": {
        "id": "wXSjgxSwm6Vk"
      },
      "source": [
        "In the sample, **White and European ethnicities data overshadows the rest.** Which is quite close to studies done."
      ]
    },
    {
      "cell_type": "code",
      "metadata": {
        "colab": {
          "base_uri": "https://localhost:8080/",
          "height": 441
        },
        "id": "k2A_dLUEm6Vl",
        "outputId": "886c98b5-025a-4681-ef0b-166a2c38bef5"
      },
      "source": [
        "#Lets visualize the ASD distribution of Adult White and European ethnicity based on country\n",
        "#We are considering both country and ethnicity because the reports suggests so.\n",
        "plt.figure(figsize=(15,6))\n",
        "sns.countplot(x='contry_of_res',data=data1[data1['ethnicity']=='White-European'],order=data1[data1['ethnicity']=='White-European']['contry_of_res'].value_counts().index[:10],palette='viridis')\n",
        "plt.title('Positive ASD of White and European Ethnicities country wise distribution')\n",
        "plt.xlabel('Countries')\n",
        "plt.tight_layout()"
      ],
      "execution_count": null,
      "outputs": [
        {
          "output_type": "display_data",
          "data": {
            "image/png": "[encoded data removed]",
            "text/plain": [
              "<Figure size 1080x432 with 1 Axes>"
            ]
          },
          "metadata": {
            "tags": []
          }
        }
      ]
    },
    {
      "cell_type": "markdown",
      "metadata": {
        "id": "K4NVQyMPm6Vl"
      },
      "source": [
        "If we plot for other ethnicities in same country we shall get very low data plots. \n",
        "\n",
        "We can see that above graph compared to countrywise distribution looks very same for top 5 countries **US, UK, Australia, NZ and Canada thus affirming their positions as top contributors of Positive ASD.**"
      ]
    },
    {
      "cell_type": "code",
      "metadata": {
        "colab": {
          "base_uri": "https://localhost:8080/",
          "height": 297
        },
        "id": "JZlc37SIvCX9",
        "outputId": "d9269d71-d888-4ac7-a13c-cf5ffe3e5b09"
      },
      "source": [
        "sns.histplot(data=data2, x='Family_mem_with_ASD')"
      ],
      "execution_count": null,
      "outputs": [
        {
          "output_type": "execute_result",
          "data": {
            "text/plain": [
              "<matplotlib.axes._subplots.AxesSubplot at 0x7fb3911102d0>"
            ]
          },
          "metadata": {
            "tags": []
          },
          "execution_count": 15
        },
        {
          "output_type": "display_data",
          "data": {
            "image/png": "[encoded data removed]",
            "text/plain": [
              "<Figure size 432x288 with 1 Axes>"
            ]
          },
          "metadata": {
            "tags": []
          }
        }
      ]
    },
    {
      "cell_type": "code",
      "metadata": {
        "colab": {
          "base_uri": "https://localhost:8080/",
          "height": 407
        },
        "id": "GU2zepkNm6Vl",
        "outputId": "e7e07b76-00db-42f2-b583-42aeffa0a032"
      },
      "source": [
        "#Lets visualize the distribution of autism in family within different ethnicity\n",
        "fig, ax = plt.subplots(1,2,figsize=(20,6))\n",
        "sns.countplot(x='austim',data=data1,hue='ethnicity',palette='rainbow',ax=ax[0])\n",
        "ax[0].set_title('Positive ASD Adult relatives with Autism distribution for different ethnicities')\n",
        "ax[0].set_xlabel('Adult Relatives with ASD')\n",
        "sns.countplot(x='Family_mem_with_ASD',data=data2,hue='Ethnicity',palette='rainbow',ax=ax[1])\n",
        "ax[1].set_title('Positive ASD Toddler relatives with Autism distribution for different ethnicities')\n",
        "ax[1].set_xlabel('Toddler Relatives with ASD')\n",
        "plt.tight_layout()"
      ],
      "execution_count": null,
      "outputs": [
        {
          "output_type": "display_data",
          "data": {
            "image/png": "[encoded data removed]",
            "text/plain": [
              "<Figure size 1440x432 with 2 Axes>"
            ]
          },
          "metadata": {
            "tags": []
          }
        }
      ]
    },
    {
      "cell_type": "markdown",
      "metadata": {
        "id": "8diUyVV0m6Vm"
      },
      "source": [
        "We can observe that both in Adults and Toddlers, **White and Europeans Ethnicities have very high chance of being ASD positive if they have it in their genes**. Black and Asians follow the next though with smaller ratios. We can not conclude anything firmly, but **we can stay confident that there is a genetic link for ASD positive** as backed by studies."
      ]
    },
    {
      "cell_type": "markdown",
      "metadata": {
        "id": "fSMTlvS0m6Vm"
      },
      "source": [
        "*Rest of the parameters are irrelevant for our study on ASD positive.*"
      ]
    },
    {
      "cell_type": "markdown",
      "metadata": {
        "id": "DTD0F1RMm6Vm"
      },
      "source": [
        "**We shall build three models using Logistic Regression,Random Forrest Classifier and K-NN Classifier on Toddlers Data.**"
      ]
    },
    {
      "cell_type": "markdown",
      "metadata": {
        "id": "HB70qu9qm6Vm"
      },
      "source": [
        "**FEATURE ENGINEERING**"
      ]
    },
    {
      "cell_type": "code",
      "metadata": {
        "id": "AcOtd6BFm6Vm"
      },
      "source": [
        "within24_36= pd.get_dummies(df2['Age_Mons']>24,drop_first=True)\n",
        "within0_12 = pd.get_dummies(df2['Age_Mons']<13,drop_first=True)\n",
        "male=pd.get_dummies(df2['Sex'],drop_first=True)\n",
        "ethnics=pd.get_dummies(df2['Ethnicity'],drop_first=True)\n",
        "jaundice=pd.get_dummies(df2['Jaundice'],drop_first=True)\n",
        "ASD_genes=pd.get_dummies(df2['Family_mem_with_ASD'],drop_first=True)\n",
        "ASD_traits=pd.get_dummies(df2['Class/ASD Traits '],drop_first=True)"
      ],
      "execution_count": null,
      "outputs": []
    },
    {
      "cell_type": "code",
      "metadata": {
        "colab": {
          "base_uri": "https://localhost:8080/",
          "height": 221
        },
        "id": "_3ECiZA2m6Vn",
        "outputId": "6d19321b-d52c-4449-d42b-21002917820f"
      },
      "source": [
        "final_data= pd.concat([within0_12,within24_36,male,ethnics,jaundice,ASD_genes,ASD_traits],axis=1)\n",
        "final_data.columns=['within0_12','within24_36','male','Latino','Native Indian','Others','Pacifica','White European','asian','black','middle eastern','mixed','south asian','jaundice','ASD_genes','ASD_traits']\n",
        "final_data.head()"
      ],
      "execution_count": null,
      "outputs": [
        {
          "output_type": "execute_result",
          "data": {
            "text/html": [
              "<div>\n",
              "<style scoped>\n",
              "    .dataframe tbody tr th:only-of-type {\n",
              "        vertical-align: middle;\n",
              "    }\n",
              "\n",
              "    .dataframe tbody tr th {\n",
              "        vertical-align: top;\n",
              "    }\n",
              "\n",
              "    .dataframe thead th {\n",
              "        text-align: right;\n",
              "    }\n",
              "</style>\n",
              "<table border=\"1\" class=\"dataframe\">\n",
              "  <thead>\n",
              "    <tr style=\"text-align: right;\">\n",
              "      <th></th>\n",
              "      <th>within0_12</th>\n",
              "      <th>within24_36</th>\n",
              "      <th>male</th>\n",
              "      <th>Latino</th>\n",
              "      <th>Native Indian</th>\n",
              "      <th>Others</th>\n",
              "      <th>Pacifica</th>\n",
              "      <th>White European</th>\n",
              "      <th>asian</th>\n",
              "      <th>black</th>\n",
              "      <th>middle eastern</th>\n",
              "      <th>mixed</th>\n",
              "      <th>south asian</th>\n",
              "      <th>jaundice</th>\n",
              "      <th>ASD_genes</th>\n",
              "      <th>ASD_traits</th>\n",
              "    </tr>\n",
              "  </thead>\n",
              "  <tbody>\n",
              "    <tr>\n",
              "      <th>0</th>\n",
              "      <td>0</td>\n",
              "      <td>1</td>\n",
              "      <td>0</td>\n",
              "      <td>0</td>\n",
              "      <td>0</td>\n",
              "      <td>0</td>\n",
              "      <td>0</td>\n",
              "      <td>0</td>\n",
              "      <td>0</td>\n",
              "      <td>0</td>\n",
              "      <td>1</td>\n",
              "      <td>0</td>\n",
              "      <td>0</td>\n",
              "      <td>1</td>\n",
              "      <td>0</td>\n",
              "      <td>0</td>\n",
              "    </tr>\n",
              "    <tr>\n",
              "      <th>1</th>\n",
              "      <td>0</td>\n",
              "      <td>1</td>\n",
              "      <td>1</td>\n",
              "      <td>0</td>\n",
              "      <td>0</td>\n",
              "      <td>0</td>\n",
              "      <td>0</td>\n",
              "      <td>1</td>\n",
              "      <td>0</td>\n",
              "      <td>0</td>\n",
              "      <td>0</td>\n",
              "      <td>0</td>\n",
              "      <td>0</td>\n",
              "      <td>1</td>\n",
              "      <td>0</td>\n",
              "      <td>1</td>\n",
              "    </tr>\n",
              "    <tr>\n",
              "      <th>2</th>\n",
              "      <td>0</td>\n",
              "      <td>1</td>\n",
              "      <td>1</td>\n",
              "      <td>0</td>\n",
              "      <td>0</td>\n",
              "      <td>0</td>\n",
              "      <td>0</td>\n",
              "      <td>0</td>\n",
              "      <td>0</td>\n",
              "      <td>0</td>\n",
              "      <td>1</td>\n",
              "      <td>0</td>\n",
              "      <td>0</td>\n",
              "      <td>1</td>\n",
              "      <td>0</td>\n",
              "      <td>1</td>\n",
              "    </tr>\n",
              "    <tr>\n",
              "      <th>3</th>\n",
              "      <td>0</td>\n",
              "      <td>0</td>\n",
              "      <td>1</td>\n",
              "      <td>0</td>\n",
              "      <td>0</td>\n",
              "      <td>0</td>\n",
              "      <td>0</td>\n",
              "      <td>0</td>\n",
              "      <td>0</td>\n",
              "      <td>0</td>\n",
              "      <td>0</td>\n",
              "      <td>0</td>\n",
              "      <td>0</td>\n",
              "      <td>0</td>\n",
              "      <td>0</td>\n",
              "      <td>1</td>\n",
              "    </tr>\n",
              "    <tr>\n",
              "      <th>4</th>\n",
              "      <td>0</td>\n",
              "      <td>0</td>\n",
              "      <td>0</td>\n",
              "      <td>0</td>\n",
              "      <td>0</td>\n",
              "      <td>0</td>\n",
              "      <td>0</td>\n",
              "      <td>1</td>\n",
              "      <td>0</td>\n",
              "      <td>0</td>\n",
              "      <td>0</td>\n",
              "      <td>0</td>\n",
              "      <td>0</td>\n",
              "      <td>0</td>\n",
              "      <td>1</td>\n",
              "      <td>1</td>\n",
              "    </tr>\n",
              "  </tbody>\n",
              "</table>\n",
              "</div>"
            ],
            "text/plain": [
              "   within0_12  within24_36  male  ...  jaundice  ASD_genes  ASD_traits\n",
              "0           0            1     0  ...         1          0           0\n",
              "1           0            1     1  ...         1          0           1\n",
              "2           0            1     1  ...         1          0           1\n",
              "3           0            0     1  ...         0          0           1\n",
              "4           0            0     0  ...         0          1           1\n",
              "\n",
              "[5 rows x 16 columns]"
            ]
          },
          "metadata": {
            "tags": []
          },
          "execution_count": 18
        }
      ]
    },
    {
      "cell_type": "markdown",
      "metadata": {
        "id": "E2w2KC3cm6Vn"
      },
      "source": [
        "**MODEL BUILDING:**"
      ]
    },
    {
      "cell_type": "code",
      "metadata": {
        "id": "gDfPlJjgm6Vn"
      },
      "source": [
        "from sklearn.model_selection import train_test_split\n",
        "X= final_data.iloc[:,:-1]\n",
        "y= final_data.iloc[:,-1]\n",
        "X_train,X_test,y_train,y_test = train_test_split(X,y,test_size=0.2,random_state=101)"
      ],
      "execution_count": null,
      "outputs": []
    },
    {
      "cell_type": "markdown",
      "metadata": {
        "id": "XD4Qzjwym6Vn"
      },
      "source": [
        "**1. Logistic Regression**"
      ]
    },
    {
      "cell_type": "code",
      "metadata": {
        "colab": {
          "base_uri": "https://localhost:8080/"
        },
        "id": "MxRx52KYm6Vn",
        "outputId": "e4bd5197-53c7-4769-a2b7-bc69c1fa43ac"
      },
      "source": [
        "from sklearn.linear_model import LogisticRegression\n",
        "logmodel= LogisticRegression()\n",
        "logmodel.fit(X_train,y_train)"
      ],
      "execution_count": null,
      "outputs": [
        {
          "output_type": "execute_result",
          "data": {
            "text/plain": [
              "LogisticRegression(C=1.0, class_weight=None, dual=False, fit_intercept=True,\n",
              "                   intercept_scaling=1, l1_ratio=None, max_iter=100,\n",
              "                   multi_class='auto', n_jobs=None, penalty='l2',\n",
              "                   random_state=None, solver='lbfgs', tol=0.0001, verbose=0,\n",
              "                   warm_start=False)"
            ]
          },
          "metadata": {
            "tags": []
          },
          "execution_count": 20
        }
      ]
    },
    {
      "cell_type": "markdown",
      "metadata": {
        "id": "PRT1zBMQm6Vn"
      },
      "source": [
        "For better parameters we will apply GridSearch"
      ]
    },
    {
      "cell_type": "code",
      "metadata": {
        "id": "prbTCkRim6Vn"
      },
      "source": [
        "from sklearn.model_selection import GridSearchCV\n",
        "param_grid = {'C': [0.01,0.1,1,10,100,1000]}"
      ],
      "execution_count": null,
      "outputs": []
    },
    {
      "cell_type": "code",
      "metadata": {
        "id": "0pxABqGKm6Vo"
      },
      "source": [
        "grid_log = GridSearchCV(LogisticRegression(),param_grid,refit=True)"
      ],
      "execution_count": null,
      "outputs": []
    },
    {
      "cell_type": "code",
      "metadata": {
        "colab": {
          "base_uri": "https://localhost:8080/"
        },
        "id": "oyp5ANB2m6Vo",
        "outputId": "a274ee5e-279f-4a2f-824e-cc6eca665758"
      },
      "source": [
        "grid_log.fit(X_train,y_train)"
      ],
      "execution_count": null,
      "outputs": [
        {
          "output_type": "stream",
          "text": [
            "/usr/local/lib/python3.7/dist-packages/sklearn/linear_model/_logistic.py:940: ConvergenceWarning: lbfgs failed to converge (status=1):\n",
            "STOP: TOTAL NO. of ITERATIONS REACHED LIMIT.\n",
            "\n",
            "Increase the number of iterations (max_iter) or scale the data as shown in:\n",
            "    https://scikit-learn.org/stable/modules/preprocessing.html\n",
            "Please also refer to the documentation for alternative solver options:\n",
            "    https://scikit-learn.org/stable/modules/linear_model.html#logistic-regression\n",
            "  extra_warning_msg=_LOGISTIC_SOLVER_CONVERGENCE_MSG)\n"
          ],
          "name": "stderr"
        },
        {
          "output_type": "execute_result",
          "data": {
            "text/plain": [
              "GridSearchCV(cv=None, error_score=nan,\n",
              "             estimator=LogisticRegression(C=1.0, class_weight=None, dual=False,\n",
              "                                          fit_intercept=True,\n",
              "                                          intercept_scaling=1, l1_ratio=None,\n",
              "                                          max_iter=100, multi_class='auto',\n",
              "                                          n_jobs=None, penalty='l2',\n",
              "                                          random_state=None, solver='lbfgs',\n",
              "                                          tol=0.0001, verbose=0,\n",
              "                                          warm_start=False),\n",
              "             iid='deprecated', n_jobs=None,\n",
              "             param_grid={'C': [0.01, 0.1, 1, 10, 100, 1000]},\n",
              "             pre_dispatch='2*n_jobs', refit=True, return_train_score=False,\n",
              "             scoring=None, verbose=0)"
            ]
          },
          "metadata": {
            "tags": []
          },
          "execution_count": 23
        }
      ]
    },
    {
      "cell_type": "code",
      "metadata": {
        "colab": {
          "base_uri": "https://localhost:8080/"
        },
        "id": "P__mj8YTm6Vo",
        "outputId": "1b2677bc-c04b-4815-e69e-06359617551f"
      },
      "source": [
        "grid_log.best_estimator_"
      ],
      "execution_count": null,
      "outputs": [
        {
          "output_type": "execute_result",
          "data": {
            "text/plain": [
              "LogisticRegression(C=0.01, class_weight=None, dual=False, fit_intercept=True,\n",
              "                   intercept_scaling=1, l1_ratio=None, max_iter=100,\n",
              "                   multi_class='auto', n_jobs=None, penalty='l2',\n",
              "                   random_state=None, solver='lbfgs', tol=0.0001, verbose=0,\n",
              "                   warm_start=False)"
            ]
          },
          "metadata": {
            "tags": []
          },
          "execution_count": 24
        }
      ]
    },
    {
      "cell_type": "code",
      "metadata": {
        "id": "Fz91nR0Nm6Vo"
      },
      "source": [
        "pred_log=grid_log.predict(X_test)"
      ],
      "execution_count": null,
      "outputs": []
    },
    {
      "cell_type": "code",
      "metadata": {
        "colab": {
          "base_uri": "https://localhost:8080/"
        },
        "id": "9X7VQGLqm6Vo",
        "outputId": "8e3aabed-2169-4b13-c198-d964e2df3359"
      },
      "source": [
        "from sklearn.metrics import classification_report,confusion_matrix\n",
        "print(confusion_matrix(y_test,pred_log))\n",
        "print(classification_report(y_test,pred_log))"
      ],
      "execution_count": null,
      "outputs": [
        {
          "output_type": "stream",
          "text": [
            "[[  0  78]\n",
            " [  0 133]]\n",
            "              precision    recall  f1-score   support\n",
            "\n",
            "           0       0.00      0.00      0.00        78\n",
            "           1       0.63      1.00      0.77       133\n",
            "\n",
            "    accuracy                           0.63       211\n",
            "   macro avg       0.32      0.50      0.39       211\n",
            "weighted avg       0.40      0.63      0.49       211\n",
            "\n"
          ],
          "name": "stdout"
        },
        {
          "output_type": "stream",
          "text": [
            "/usr/local/lib/python3.7/dist-packages/sklearn/metrics/_classification.py:1272: UndefinedMetricWarning: Precision and F-score are ill-defined and being set to 0.0 in labels with no predicted samples. Use `zero_division` parameter to control this behavior.\n",
            "  _warn_prf(average, modifier, msg_start, len(result))\n"
          ],
          "name": "stderr"
        }
      ]
    },
    {
      "cell_type": "markdown",
      "metadata": {
        "id": "8smI2dBam6Vo"
      },
      "source": [
        "**2. Random Forrest Classifier**"
      ]
    },
    {
      "cell_type": "code",
      "metadata": {
        "id": "v5e587dAm6Vo"
      },
      "source": [
        "from sklearn.ensemble import RandomForestClassifier"
      ],
      "execution_count": null,
      "outputs": []
    },
    {
      "cell_type": "code",
      "metadata": {
        "colab": {
          "base_uri": "https://localhost:8080/"
        },
        "id": "AQyCuHLKm6Vp",
        "outputId": "5db08d28-6754-4c8f-e324-2a2b94f911eb"
      },
      "source": [
        "rfc= RandomForestClassifier(n_estimators=500)\n",
        "rfc.fit(X_train,y_train)"
      ],
      "execution_count": null,
      "outputs": [
        {
          "output_type": "execute_result",
          "data": {
            "text/plain": [
              "RandomForestClassifier(bootstrap=True, ccp_alpha=0.0, class_weight=None,\n",
              "                       criterion='gini', max_depth=None, max_features='auto',\n",
              "                       max_leaf_nodes=None, max_samples=None,\n",
              "                       min_impurity_decrease=0.0, min_impurity_split=None,\n",
              "                       min_samples_leaf=1, min_samples_split=2,\n",
              "                       min_weight_fraction_leaf=0.0, n_estimators=500,\n",
              "                       n_jobs=None, oob_score=False, random_state=None,\n",
              "                       verbose=0, warm_start=False)"
            ]
          },
          "metadata": {
            "tags": []
          },
          "execution_count": 28
        }
      ]
    },
    {
      "cell_type": "code",
      "metadata": {
        "colab": {
          "base_uri": "https://localhost:8080/"
        },
        "id": "htFrSCHzm6Vp",
        "outputId": "c849611d-a3ef-48e8-8527-93958c84dbde"
      },
      "source": [
        "pred_rfc= rfc.predict(X_test)\n",
        "print(confusion_matrix(y_test,pred_rfc))\n",
        "print(classification_report(y_test,pred_rfc))"
      ],
      "execution_count": null,
      "outputs": [
        {
          "output_type": "stream",
          "text": [
            "[[ 25  53]\n",
            " [ 10 123]]\n",
            "              precision    recall  f1-score   support\n",
            "\n",
            "           0       0.71      0.32      0.44        78\n",
            "           1       0.70      0.92      0.80       133\n",
            "\n",
            "    accuracy                           0.70       211\n",
            "   macro avg       0.71      0.62      0.62       211\n",
            "weighted avg       0.70      0.70      0.67       211\n",
            "\n"
          ],
          "name": "stdout"
        }
      ]
    },
    {
      "cell_type": "markdown",
      "metadata": {
        "id": "HUQR20-Fm6Vp"
      },
      "source": [
        "**3. KNN Classifier**"
      ]
    },
    {
      "cell_type": "code",
      "metadata": {
        "id": "032T_SgDm6Vp"
      },
      "source": [
        "#first scale the variables\n",
        "from sklearn.preprocessing import StandardScaler\n",
        "scaler= StandardScaler()"
      ],
      "execution_count": null,
      "outputs": []
    },
    {
      "cell_type": "code",
      "metadata": {
        "id": "EOXNB3c1m6Vp"
      },
      "source": [
        "scaler.fit(X)\n",
        "scaled_features = scaler.transform(X)"
      ],
      "execution_count": null,
      "outputs": []
    },
    {
      "cell_type": "code",
      "metadata": {
        "colab": {
          "base_uri": "https://localhost:8080/",
          "height": 221
        },
        "id": "l261ILvDm6Vp",
        "outputId": "797280d1-3662-41c4-dd05-b5d8e6f9c296"
      },
      "source": [
        "X_scaled = pd.DataFrame(scaled_features,columns=X.columns)\n",
        "X_scaled.head()"
      ],
      "execution_count": null,
      "outputs": [
        {
          "output_type": "execute_result",
          "data": {
            "text/html": [
              "<div>\n",
              "<style scoped>\n",
              "    .dataframe tbody tr th:only-of-type {\n",
              "        vertical-align: middle;\n",
              "    }\n",
              "\n",
              "    .dataframe tbody tr th {\n",
              "        vertical-align: top;\n",
              "    }\n",
              "\n",
              "    .dataframe thead th {\n",
              "        text-align: right;\n",
              "    }\n",
              "</style>\n",
              "<table border=\"1\" class=\"dataframe\">\n",
              "  <thead>\n",
              "    <tr style=\"text-align: right;\">\n",
              "      <th></th>\n",
              "      <th>within0_12</th>\n",
              "      <th>within24_36</th>\n",
              "      <th>male</th>\n",
              "      <th>Latino</th>\n",
              "      <th>Native Indian</th>\n",
              "      <th>Others</th>\n",
              "      <th>Pacifica</th>\n",
              "      <th>White European</th>\n",
              "      <th>asian</th>\n",
              "      <th>black</th>\n",
              "      <th>middle eastern</th>\n",
              "      <th>mixed</th>\n",
              "      <th>south asian</th>\n",
              "      <th>jaundice</th>\n",
              "      <th>ASD_genes</th>\n",
              "    </tr>\n",
              "  </thead>\n",
              "  <tbody>\n",
              "    <tr>\n",
              "      <th>0</th>\n",
              "      <td>-0.260543</td>\n",
              "      <td>0.714163</td>\n",
              "      <td>-1.517918</td>\n",
              "      <td>-0.159034</td>\n",
              "      <td>-0.053427</td>\n",
              "      <td>-0.185331</td>\n",
              "      <td>-0.087454</td>\n",
              "      <td>-0.681094</td>\n",
              "      <td>-0.629306</td>\n",
              "      <td>-0.230102</td>\n",
              "      <td>2.146249</td>\n",
              "      <td>-0.087454</td>\n",
              "      <td>-0.245687</td>\n",
              "      <td>1.630865</td>\n",
              "      <td>-0.438529</td>\n",
              "    </tr>\n",
              "    <tr>\n",
              "      <th>1</th>\n",
              "      <td>-0.260543</td>\n",
              "      <td>0.714163</td>\n",
              "      <td>0.658797</td>\n",
              "      <td>-0.159034</td>\n",
              "      <td>-0.053427</td>\n",
              "      <td>-0.185331</td>\n",
              "      <td>-0.087454</td>\n",
              "      <td>1.468226</td>\n",
              "      <td>-0.629306</td>\n",
              "      <td>-0.230102</td>\n",
              "      <td>-0.465929</td>\n",
              "      <td>-0.087454</td>\n",
              "      <td>-0.245687</td>\n",
              "      <td>1.630865</td>\n",
              "      <td>-0.438529</td>\n",
              "    </tr>\n",
              "    <tr>\n",
              "      <th>2</th>\n",
              "      <td>-0.260543</td>\n",
              "      <td>0.714163</td>\n",
              "      <td>0.658797</td>\n",
              "      <td>-0.159034</td>\n",
              "      <td>-0.053427</td>\n",
              "      <td>-0.185331</td>\n",
              "      <td>-0.087454</td>\n",
              "      <td>-0.681094</td>\n",
              "      <td>-0.629306</td>\n",
              "      <td>-0.230102</td>\n",
              "      <td>2.146249</td>\n",
              "      <td>-0.087454</td>\n",
              "      <td>-0.245687</td>\n",
              "      <td>1.630865</td>\n",
              "      <td>-0.438529</td>\n",
              "    </tr>\n",
              "    <tr>\n",
              "      <th>3</th>\n",
              "      <td>-0.260543</td>\n",
              "      <td>-1.400241</td>\n",
              "      <td>0.658797</td>\n",
              "      <td>-0.159034</td>\n",
              "      <td>-0.053427</td>\n",
              "      <td>-0.185331</td>\n",
              "      <td>-0.087454</td>\n",
              "      <td>-0.681094</td>\n",
              "      <td>-0.629306</td>\n",
              "      <td>-0.230102</td>\n",
              "      <td>-0.465929</td>\n",
              "      <td>-0.087454</td>\n",
              "      <td>-0.245687</td>\n",
              "      <td>-0.613171</td>\n",
              "      <td>-0.438529</td>\n",
              "    </tr>\n",
              "    <tr>\n",
              "      <th>4</th>\n",
              "      <td>-0.260543</td>\n",
              "      <td>-1.400241</td>\n",
              "      <td>-1.517918</td>\n",
              "      <td>-0.159034</td>\n",
              "      <td>-0.053427</td>\n",
              "      <td>-0.185331</td>\n",
              "      <td>-0.087454</td>\n",
              "      <td>1.468226</td>\n",
              "      <td>-0.629306</td>\n",
              "      <td>-0.230102</td>\n",
              "      <td>-0.465929</td>\n",
              "      <td>-0.087454</td>\n",
              "      <td>-0.245687</td>\n",
              "      <td>-0.613171</td>\n",
              "      <td>2.280351</td>\n",
              "    </tr>\n",
              "  </tbody>\n",
              "</table>\n",
              "</div>"
            ],
            "text/plain": [
              "   within0_12  within24_36      male  ...  south asian  jaundice  ASD_genes\n",
              "0   -0.260543     0.714163 -1.517918  ...    -0.245687  1.630865  -0.438529\n",
              "1   -0.260543     0.714163  0.658797  ...    -0.245687  1.630865  -0.438529\n",
              "2   -0.260543     0.714163  0.658797  ...    -0.245687  1.630865  -0.438529\n",
              "3   -0.260543    -1.400241  0.658797  ...    -0.245687 -0.613171  -0.438529\n",
              "4   -0.260543    -1.400241 -1.517918  ...    -0.245687 -0.613171   2.280351\n",
              "\n",
              "[5 rows x 15 columns]"
            ]
          },
          "metadata": {
            "tags": []
          },
          "execution_count": 32
        }
      ]
    },
    {
      "cell_type": "code",
      "metadata": {
        "id": "oz5gSiFnm6Vp"
      },
      "source": [
        "X_train,X_test,y_train,y_test = train_test_split(X_scaled,y,test_size=0.2,random_state=101)"
      ],
      "execution_count": null,
      "outputs": []
    },
    {
      "cell_type": "markdown",
      "metadata": {
        "id": "iBN_-GOdm6Vp"
      },
      "source": [
        "Let's choose a k-value using elbow method"
      ]
    },
    {
      "cell_type": "code",
      "metadata": {
        "id": "bpmAFpZFm6Vq"
      },
      "source": [
        "from sklearn.neighbors import KNeighborsClassifier\n",
        "error_rate =[]\n",
        "\n",
        "for i in range (1,50):\n",
        "    knn= KNeighborsClassifier(n_neighbors=i)\n",
        "    knn.fit(X_train,y_train)\n",
        "    pred_i= knn.predict(X_test)\n",
        "    error_rate.append(np.mean(pred_i != y_test))"
      ],
      "execution_count": null,
      "outputs": []
    },
    {
      "cell_type": "code",
      "metadata": {
        "colab": {
          "base_uri": "https://localhost:8080/",
          "height": 312
        },
        "id": "T6iNNU78m6Vq",
        "outputId": "0292782d-2aa5-4afb-8c32-482eb5c6fbe2"
      },
      "source": [
        "plt.figure(figsize=(10,4))\n",
        "plt.plot(range(1,50),error_rate,color='blue',linestyle='dashed',marker='o',markerfacecolor='red',markersize=10)\n",
        "plt.title('Error rate vs K-value')\n",
        "plt.xlabel('K')\n",
        "plt.ylabel('Error Rate')"
      ],
      "execution_count": null,
      "outputs": [
        {
          "output_type": "execute_result",
          "data": {
            "text/plain": [
              "Text(0, 0.5, 'Error Rate')"
            ]
          },
          "metadata": {
            "tags": []
          },
          "execution_count": 35
        },
        {
          "output_type": "display_data",
          "data": {
            "image/png": "[encoded data removed]",
            "text/plain": [
              "<Figure size 720x288 with 1 Axes>"
            ]
          },
          "metadata": {
            "tags": []
          }
        }
      ]
    },
    {
      "cell_type": "markdown",
      "metadata": {
        "id": "WEBKTnwpm6Vq"
      },
      "source": [
        "We choose k=13"
      ]
    },
    {
      "cell_type": "code",
      "metadata": {
        "colab": {
          "base_uri": "https://localhost:8080/"
        },
        "id": "_mGmideym6Vq",
        "outputId": "43cb8a7e-982a-4e93-a196-5fb84cb3104c"
      },
      "source": [
        "knn= KNeighborsClassifier(n_neighbors=13)\n",
        "knn.fit(X_train,y_train)"
      ],
      "execution_count": null,
      "outputs": [
        {
          "output_type": "execute_result",
          "data": {
            "text/plain": [
              "KNeighborsClassifier(algorithm='auto', leaf_size=30, metric='minkowski',\n",
              "                     metric_params=None, n_jobs=None, n_neighbors=13, p=2,\n",
              "                     weights='uniform')"
            ]
          },
          "metadata": {
            "tags": []
          },
          "execution_count": 36
        }
      ]
    },
    {
      "cell_type": "code",
      "metadata": {
        "colab": {
          "base_uri": "https://localhost:8080/"
        },
        "id": "EW4K_tCbm6Vr",
        "outputId": "1f7c1755-964a-4a1e-b0b0-9368342373ee"
      },
      "source": [
        "pred_knn=knn.predict(X_test)\n",
        "print(confusion_matrix(y_test,pred_knn))\n",
        "print(classification_report(y_test,pred_knn))"
      ],
      "execution_count": null,
      "outputs": [
        {
          "output_type": "stream",
          "text": [
            "[[ 27  51]\n",
            " [ 11 122]]\n",
            "              precision    recall  f1-score   support\n",
            "\n",
            "           0       0.71      0.35      0.47        78\n",
            "           1       0.71      0.92      0.80       133\n",
            "\n",
            "    accuracy                           0.71       211\n",
            "   macro avg       0.71      0.63      0.63       211\n",
            "weighted avg       0.71      0.71      0.67       211\n",
            "\n"
          ],
          "name": "stdout"
        }
      ]
    },
    {
      "cell_type": "markdown",
      "metadata": {
        "id": "Lb0caY_jm6Vr"
      },
      "source": [
        "**Out of above three models KNN classifer and Random Forrest Classifier performs same overall but much better than Logistic Regression**"
      ]
    },
    {
      "cell_type": "markdown",
      "metadata": {
        "id": "gqUSwCL6m6Vr"
      },
      "source": [
        "**So based on the KNN classifier model on above dataset, if any parent provides toddler's age,gender,ethnicity,jaundice while birth? and any relative having ASD traits?, the model can predict either the toddler has ASD or not with precision of 71%**"
      ]
    },
    {
      "cell_type": "markdown",
      "metadata": {
        "id": "5pnxJshW4IH0"
      },
      "source": [
        "**4. Support Vector Machine Analysis**"
      ]
    },
    {
      "cell_type": "code",
      "metadata": {
        "id": "lUs-Kgsnm6Vr"
      },
      "source": [
        "from sklearn.utils import shuffle\n",
        "from sklearn.svm import SVC\n",
        "from sklearn.metrics import confusion_matrix,classification_report\n",
        "from sklearn.model_selection import cross_val_score, GridSearchCV"
      ],
      "execution_count": null,
      "outputs": []
    },
    {
      "cell_type": "code",
      "metadata": {
        "id": "Uw_RISJE68t4"
      },
      "source": [
        "#Libraries to Build Ensemble Model : Random Forest Classifier \n",
        "# Create the parameter grid based on the results of random search \n",
        "params_grid = [{'kernel': ['rbf'], 'gamma': [1e-3, 1e-4],\n",
        "                     'C': [1, 10, 100, 1000]},\n",
        "                    {'kernel': ['linear'], 'C': [1, 10, 100, 1000]}]\n"
      ],
      "execution_count": null,
      "outputs": []
    },
    {
      "cell_type": "code",
      "metadata": {
        "colab": {
          "base_uri": "https://localhost:8080/"
        },
        "id": "39qycJnvGxHW",
        "outputId": "74f28022-a74c-4481-e543-e78272ddc0fe"
      },
      "source": [
        "# Dimension of Train and Test set \n",
        "print(\"Dimension of Train set\",X_train.shape)\n",
        "print(\"Dimension of Train set\",y_train.shape)\n",
        "print(\"Dimension of Test set\",y_test.shape,\"\\n\")\n",
        "\n"
      ],
      "execution_count": null,
      "outputs": [
        {
          "output_type": "stream",
          "text": [
            "Dimension of Train set (843, 15)\n",
            "Dimension of Train set (843,)\n",
            "Dimension of Test set (211,) \n",
            "\n"
          ],
          "name": "stdout"
        }
      ]
    },
    {
      "cell_type": "code",
      "metadata": {
        "colab": {
          "base_uri": "https://localhost:8080/"
        },
        "id": "nWHd-2LzQJkU",
        "outputId": "bc239f58-4d82-47b4-8012-484772af7212"
      },
      "source": [
        "# Scaling the Train and Test feature set \n",
        "from sklearn.preprocessing import StandardScaler\n",
        "scaler = StandardScaler()\n",
        "X_train_scaled = scaler.fit_transform(X_train)\n",
        "print(X_train)\n",
        "print(X_train_scaled)\n",
        "print(y_test)\n",
        "\n",
        "#Performing CV to tune parameters for best SVM fit \n",
        "svm_model = GridSearchCV(SVC(), params_grid, cv=5)\n",
        "svm_model.fit(X_train_scaled,y_train)"
      ],
      "execution_count": null,
      "outputs": [
        {
          "output_type": "stream",
          "text": [
            "     within0_12  within24_36      male  ...  south asian  jaundice  ASD_genes\n",
            "533   -0.260543    -1.400241  0.658797  ...    -0.245687  1.630865  -0.438529\n",
            "531    3.838143    -1.400241 -1.517918  ...    -0.245687 -0.613171  -0.438529\n",
            "669   -0.260543    -1.400241  0.658797  ...    -0.245687 -0.613171  -0.438529\n",
            "323   -0.260543     0.714163  0.658797  ...    -0.245687  1.630865  -0.438529\n",
            "633   -0.260543    -1.400241  0.658797  ...    -0.245687  1.630865  -0.438529\n",
            "..          ...          ...       ...  ...          ...       ...        ...\n",
            "575   -0.260543     0.714163  0.658797  ...    -0.245687  1.630865  -0.438529\n",
            "973   -0.260543     0.714163  0.658797  ...    -0.245687  1.630865   2.280351\n",
            "75    -0.260543    -1.400241  0.658797  ...    -0.245687 -0.613171  -0.438529\n",
            "599   -0.260543     0.714163  0.658797  ...    -0.245687 -0.613171  -0.438529\n",
            "863   -0.260543     0.714163 -1.517918  ...    -0.245687  1.630865  -0.438529\n",
            "\n",
            "[843 rows x 15 columns]\n",
            "[[-0.24299223 -1.40669776  0.65114245 ... -0.22898571  1.64236671\n",
            "  -0.43859103]\n",
            " [ 4.11535785 -1.40669776 -1.53576227 ... -0.22898571 -0.60887742\n",
            "  -0.43859103]\n",
            " [-0.24299223 -1.40669776  0.65114245 ... -0.22898571 -0.60887742\n",
            "  -0.43859103]\n",
            " ...\n",
            " [-0.24299223 -1.40669776  0.65114245 ... -0.22898571 -0.60887742\n",
            "  -0.43859103]\n",
            " [-0.24299223  0.71088476  0.65114245 ... -0.22898571 -0.60887742\n",
            "  -0.43859103]\n",
            " [-0.24299223  0.71088476 -1.53576227 ... -0.22898571  1.64236671\n",
            "  -0.43859103]]\n",
            "325    1\n",
            "721    1\n",
            "114    1\n",
            "320    0\n",
            "712    1\n",
            "      ..\n",
            "333    1\n",
            "9      1\n",
            "180    1\n",
            "381    1\n",
            "230    1\n",
            "Name: ASD_traits, Length: 211, dtype: uint8\n"
          ],
          "name": "stdout"
        }
      ]
    },
    {
      "cell_type": "code",
      "metadata": {
        "colab": {
          "base_uri": "https://localhost:8080/",
          "height": 232
        },
        "id": "0wqED1IEZNjD",
        "outputId": "557bb6fd-a857-40bb-bf65-b007aab0e5ee"
      },
      "source": [
        "# View the accuracy score\n",
        "#print('Best score for training data:', svm_model.best_score_,\"\\n\") \n",
        "\n",
        "# View the best parameters for the model found using grid search\n",
        "#print('Best C:',svm_model.best_estimator_.C,\"\\n\") \n",
        "#print('Best Kernel:',svm_model.best_estimator_.kernel,\"\\n\")\n",
        "#print('Best Gamma:',svm_model.best_estimator_.gamma,\"\\n\")\n",
        "\n",
        "final_model = svm_model.best_estimator_\n",
        "Y_pred = final_model.predict(X_test_scaled)\n",
        "Y_pred_label = list(encoder.inverse_transform(Y_pred))"
      ],
      "execution_count": null,
      "outputs": [
        {
          "output_type": "error",
          "ename": "AttributeError",
          "evalue": "ignored",
          "traceback": [
            "\u001b[0;31m---------------------------------------------------------------------------\u001b[0m",
            "\u001b[0;31mAttributeError\u001b[0m                            Traceback (most recent call last)",
            "\u001b[0;32m<ipython-input-57-3cd1d228e086>\u001b[0m in \u001b[0;36m<module>\u001b[0;34m()\u001b[0m\n\u001b[1;32m      7\u001b[0m \u001b[0;31m#print('Best Gamma:',svm_model.best_estimator_.gamma,\"\\n\")\u001b[0m\u001b[0;34m\u001b[0m\u001b[0;34m\u001b[0m\u001b[0;34m\u001b[0m\u001b[0m\n\u001b[1;32m      8\u001b[0m \u001b[0;34m\u001b[0m\u001b[0m\n\u001b[0;32m----> 9\u001b[0;31m \u001b[0mfinal_model\u001b[0m \u001b[0;34m=\u001b[0m \u001b[0msvm_model\u001b[0m\u001b[0;34m.\u001b[0m\u001b[0mbest_estimator_\u001b[0m\u001b[0;34m\u001b[0m\u001b[0;34m\u001b[0m\u001b[0m\n\u001b[0m\u001b[1;32m     10\u001b[0m \u001b[0mY_pred\u001b[0m \u001b[0;34m=\u001b[0m \u001b[0mfinal_model\u001b[0m\u001b[0;34m.\u001b[0m\u001b[0mpredict\u001b[0m\u001b[0;34m(\u001b[0m\u001b[0mX_test_scaled\u001b[0m\u001b[0;34m)\u001b[0m\u001b[0;34m\u001b[0m\u001b[0;34m\u001b[0m\u001b[0m\n\u001b[1;32m     11\u001b[0m \u001b[0mY_pred_label\u001b[0m \u001b[0;34m=\u001b[0m \u001b[0mlist\u001b[0m\u001b[0;34m(\u001b[0m\u001b[0mencoder\u001b[0m\u001b[0;34m.\u001b[0m\u001b[0minverse_transform\u001b[0m\u001b[0;34m(\u001b[0m\u001b[0mY_pred\u001b[0m\u001b[0;34m)\u001b[0m\u001b[0;34m)\u001b[0m\u001b[0;34m\u001b[0m\u001b[0;34m\u001b[0m\u001b[0m\n",
            "\u001b[0;31mAttributeError\u001b[0m: 'GridSearchCV' object has no attribute 'best_estimator_'"
          ]
        }
      ]
    }
  ]
}